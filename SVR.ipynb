{
 "cells": [
  {
   "cell_type": "code",
   "execution_count": 28,
   "metadata": {},
   "outputs": [
    {
     "name": "stdout",
     "output_type": "stream",
     "text": [
      "         COD_PROD_01  COD_PROD_02  COD_PROD_03  COD_PROD_04  COD_PROD_05  \\\n",
      "NUM_CLI                                                                    \n",
      "10000            0.0          0.0       193.33          0.0         0.00   \n",
      "10003            0.0          0.0         0.00          0.0      6971.16   \n",
      "10004            0.0          0.0         0.00          0.0      4612.30   \n",
      "10005            0.0          0.0         0.00          0.0      6589.00   \n",
      "10006            0.0          0.0         0.00          0.0     13507.45   \n",
      "...              ...          ...          ...          ...          ...   \n",
      "92431            0.0          0.0         0.00          0.0    246823.96   \n",
      "92611            0.0          0.0         0.00          0.0       573.24   \n",
      "92621            0.0          0.0         0.00          0.0     33603.90   \n",
      "92700            0.0          0.0      5374.44          0.0      5930.10   \n",
      "94211            0.0          0.0       850.63          0.0       988.35   \n",
      "\n",
      "         COD_PROD_06      TOTAL  \n",
      "NUM_CLI                          \n",
      "10000            0.0     193.33  \n",
      "10003            0.0    6971.16  \n",
      "10004            0.0    4612.30  \n",
      "10005            0.0    6589.00  \n",
      "10006            0.0   13507.45  \n",
      "...              ...        ...  \n",
      "92431            0.0  246823.96  \n",
      "92611            0.0     573.24  \n",
      "92621            0.0   33603.90  \n",
      "92700            0.0   11304.54  \n",
      "94211            0.0    1838.98  \n",
      "\n",
      "[303 rows x 7 columns]\n",
      "(303, 7)\n"
     ]
    },
    {
     "data": {
      "image/png": "[encoded data removed]",
      "text/plain": [
       "<Figure size 432x288 with 1 Axes>"
      ]
     },
     "metadata": {
      "needs_background": "light"
     },
     "output_type": "display_data"
    }
   ],
   "source": [
    "## SRV\n",
    "\n",
    "#1. Importación de librerias a utilizar\n",
    "import pandas as pd\n",
    "import numpy as np\n",
    "import csv\n",
    "import numpy as np\n",
    "from sklearn.metrics import mean_squared_error\n",
    "import matplotlib.pyplot as plt\n",
    "\n",
    "#2. Obtener data de origen\n",
    "df = pd.read_excel('C:\\\\Users\\\\Intel\\\\Documents\\\\Mis documentos IDEA\\\\Samples\\Exportaciones.ILB\\\\Tabladinámica.xlsx', index_col=0)\n",
    "print(df)\n",
    "print(df.shape)\n",
    "data_top=df.head()\n",
    "df.head()\n",
    "\n",
    "#3. Selección de columnas de trabajo\n",
    "y_svr = df['TOTAL']\n",
    "X_svr = df[['COD_PROD_06']]\n",
    "\n",
    "#4. Grafica de los datos\n",
    "plt.scatter(X_svr, y_svr)\n",
    "plt.show()\n",
    "\n"
   ]
  },
  {
   "cell_type": "code",
   "execution_count": 29,
   "metadata": {},
   "outputs": [
    {
     "data": {
      "image/png": "[encoded data removed]",
      "text/plain": [
       "<Figure size 432x288 with 1 Axes>"
      ]
     },
     "metadata": {
      "needs_background": "light"
     },
     "output_type": "display_data"
    }
   ],
   "source": [
    "#5. Separación de datos de \"train\" en entrenamiento y prueba\n",
    "\n",
    "from sklearn.model_selection import train_test_split\n",
    "X_train, X_test, y_train, y_test = train_test_split(X_svr, y_svr, test_size=0.2)\n",
    "\n",
    "#6. Definición de parámetros en sintaxis\n",
    "from sklearn.svm import SVR\n",
    "svr = SVR(kernel='linear', C=1.0, epsilon=0.2)\n",
    "\n",
    "#7. Entrenamiento del modelo\n",
    "svr.fit(X_train, y_train)\n",
    "\n",
    "#8. Ejecución de predicción\n",
    "Y_pred = svr.predict(X_test)\n",
    "\n",
    "#9. Grafico de datos con el modelo\n",
    "plt.scatter(X_test, y_test)\n",
    "plt.plot(X_test, Y_pred, color='yellow', linewidth=3)\n",
    "plt.show()\n"
   ]
  },
  {
   "cell_type": "code",
   "execution_count": 30,
   "metadata": {},
   "outputs": [
    {
     "name": "stdout",
     "output_type": "stream",
     "text": [
      "\n",
      "DATOS DEL MODELO VECTORES DE SOPORTE REGRESIÓN\n",
      "\n",
      "Precisión del modelo:\n",
      "0.936058463108121\n",
      "Valor de la pendiente o coeficiente \"a\":\n",
      "[[0.78131079]]\n",
      "Valor de la intersección o coeficiente \"b\":\n",
      "[2674.94027207]\n"
     ]
    }
   ],
   "source": [
    "#10. Impresión de información resumen\n",
    "\n",
    "print()\n",
    "print('DATOS DEL MODELO VECTORES DE SOPORTE REGRESIÓN')\n",
    "print()\n",
    "print('Precisión del modelo:')\n",
    "print(svr.score(X_train, y_train))\n",
    "\n",
    "print('Valor de la pendiente o coeficiente \"a\":')\n",
    "print(svr.coef_)\n",
    "\n",
    "print('Valor de la intersección o coeficiente \"b\":')\n",
    "print(svr.intercept_)"
   ]
  },
  {
   "cell_type": "code",
   "execution_count": 31,
   "metadata": {},
   "outputs": [],
   "source": [
    "#11. Exportación a archivo csv\n",
    "myData = [['COD_PROD_06_x','Constante'], [svr.coef_, svr.intercept_]]\n",
    "myFile = open('C:\\\\Users\\\\Intel\\\\Documents\\\\Mis documentos IDEA\\\\Samples\\Exportaciones.ILB\\\\Regresion_SVR01.csv', 'w')\n",
    "with myFile:\n",
    "   writer = csv.writer(myFile)\n",
    "   writer.writerows(myData)"
   ]
  },
  {
   "cell_type": "code",
   "execution_count": 32,
   "metadata": {},
   "outputs": [
    {
     "name": "stdout",
     "output_type": "stream",
     "text": [
      "Valor : \n",
      " [80806.01906845]\n"
     ]
    }
   ],
   "source": [
    "#12. Predicción a nivel de prueba\n",
    "COD_PROD_06 = [100000]\n",
    "print(\"Valor : \\n\", svr.predict([COD_PROD_06]))"
   ]
  },
  {
   "cell_type": "code",
   "execution_count": null,
   "metadata": {},
   "outputs": [],
   "source": []
  }
 ],
 "metadata": {
  "kernelspec": {
   "display_name": "Python 3",
   "language": "python",
   "name": "python3"
  },
  "language_info": {
   "codemirror_mode": {
    "name": "ipython",
    "version": 3
   },
   "file_extension": ".py",
   "mimetype": "text/x-python",
   "name": "python",
   "nbconvert_exporter": "python",
   "pygments_lexer": "ipython3",
   "version": "3.7.6"
  }
 },
 "nbformat": 4,
 "nbformat_minor": 4
}
